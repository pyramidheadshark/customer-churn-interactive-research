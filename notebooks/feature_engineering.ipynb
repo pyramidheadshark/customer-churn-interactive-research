{
 "cells": [
  {
   "cell_type": "code",
   "execution_count": 20,
   "metadata": {},
   "outputs": [],
   "source": [
    "import os\n",
    "import pandas as pd\n",
    "import numpy as np\n",
    "from sklearn.model_selection import train_test_split\n",
    "from sklearn.preprocessing import StandardScaler, OneHotEncoder, FunctionTransformer\n",
    "from sklearn.compose import ColumnTransformer\n",
    "from sklearn.pipeline import Pipeline"
   ]
  },
  {
   "cell_type": "code",
   "execution_count": 16,
   "metadata": {},
   "outputs": [],
   "source": [
    "processed_data_dir = '..\\\\data\\\\processed\\\\'"
   ]
  },
  {
   "cell_type": "code",
   "execution_count": 5,
   "metadata": {},
   "outputs": [],
   "source": [
    "file_path = '..\\\\data\\\\raw\\\\Churn_Modelling.csv'"
   ]
  },
  {
   "cell_type": "code",
   "execution_count": 6,
   "metadata": {},
   "outputs": [
    {
     "name": "stdout",
     "output_type": "stream",
     "text": [
      "Данные успешно загружены. Размер: (10000, 14)\n"
     ]
    }
   ],
   "source": [
    "try:\n",
    "    df = pd.read_csv(file_path)\n",
    "    print(f\"Данные успешно загружены. Размер: {df.shape}\")\n",
    "except FileNotFoundError:\n",
    "    print(f\"Ошибка: Файл не найден по пути '{file_path}'. Проверьте путь.\")"
   ]
  },
  {
   "cell_type": "code",
   "execution_count": 7,
   "metadata": {},
   "outputs": [],
   "source": [
    "columns_to_drop_initial = ['RowNumber', 'CustomerId', 'Surname']\n",
    "df_processed = df.drop(columns=columns_to_drop_initial)"
   ]
  },
  {
   "cell_type": "code",
   "execution_count": 8,
   "metadata": {},
   "outputs": [
    {
     "name": "stdout",
     "output_type": "stream",
     "text": [
      "Удалены бесполезные колонки: ['HasCrCard']\n"
     ]
    }
   ],
   "source": [
    "columns_to_drop_useless = ['HasCrCard']\n",
    "if columns_to_drop_useless[0] in df_processed.columns:\n",
    "    df_processed = df_processed.drop(columns=columns_to_drop_useless)\n",
    "    print(f\"Удалены бесполезные колонки: {columns_to_drop_useless}\")"
   ]
  },
  {
   "cell_type": "code",
   "execution_count": 9,
   "metadata": {},
   "outputs": [
    {
     "name": "stdout",
     "output_type": "stream",
     "text": [
      "\n",
      "--- Создание новых признаков ---\n",
      "Создан признак 'IsBalanceZero'.\n",
      "Создан признак 'HighNumProducts'.\n",
      "Создан признак 'BalancePerProduct'.\n",
      "Создан признак 'TenurePerAge'.\n"
     ]
    }
   ],
   "source": [
    "print(\"\\n--- Создание новых признаков ---\")\n",
    "\n",
    "df_processed['IsBalanceZero'] = (df_processed['Balance'] == 0).astype(int)\n",
    "print(\"Создан признак 'IsBalanceZero'.\")\n",
    "\n",
    "df_processed['HighNumProducts'] = (df_processed['NumOfProducts'] >= 3).astype(int)\n",
    "print(\"Создан признак 'HighNumProducts'.\")\n",
    "\n",
    "df_processed['BalancePerProduct'] = np.where(\n",
    "    df_processed['NumOfProducts'] > 0,\n",
    "    df_processed['Balance'] / df_processed['NumOfProducts'],\n",
    "    0\n",
    ")\n",
    "print(\"Создан признак 'BalancePerProduct'.\")\n",
    "\n",
    "df_processed['TenurePerAge'] = np.where(\n",
    "    df_processed['Age'] > 0,\n",
    "    df_processed['Tenure'] / df_processed['Age'],\n",
    "    0\n",
    ")\n",
    "print(\"Создан признак 'TenurePerAge'.\")"
   ]
  },
  {
   "cell_type": "code",
   "execution_count": 10,
   "metadata": {},
   "outputs": [
    {
     "name": "stdout",
     "output_type": "stream",
     "text": [
      "\n",
      "Признаки после инжиниринга:\n",
      "   CreditScore Geography  Gender  Age  Tenure    Balance  NumOfProducts  \\\n",
      "0          619    France  Female   42       2       0.00              1   \n",
      "1          608     Spain  Female   41       1   83807.86              1   \n",
      "2          502    France  Female   42       8  159660.80              3   \n",
      "3          699    France  Female   39       1       0.00              2   \n",
      "4          850     Spain  Female   43       2  125510.82              1   \n",
      "\n",
      "   IsActiveMember  EstimatedSalary  Exited  IsBalanceZero  HighNumProducts  \\\n",
      "0               1        101348.88       1              1                0   \n",
      "1               1        112542.58       0              0                0   \n",
      "2               0        113931.57       1              0                1   \n",
      "3               0         93826.63       0              1                0   \n",
      "4               1         79084.10       0              0                0   \n",
      "\n",
      "   BalancePerProduct  TenurePerAge  \n",
      "0           0.000000      0.047619  \n",
      "1       83807.860000      0.024390  \n",
      "2       53220.266667      0.190476  \n",
      "3           0.000000      0.025641  \n",
      "4      125510.820000      0.046512  \n",
      "Новый размер: (10000, 14)\n"
     ]
    }
   ],
   "source": [
    "print(\"\\nПризнаки после инжиниринга:\")\n",
    "print(df_processed.head())\n",
    "print(\"Новый размер:\", df_processed.shape)"
   ]
  },
  {
   "cell_type": "code",
   "execution_count": 11,
   "metadata": {},
   "outputs": [
    {
     "name": "stdout",
     "output_type": "stream",
     "text": [
      "\n",
      "--- Разделение данных на обучающую и тестовую выборки ---\n",
      "Размер X_train: (8000, 13)\n",
      "Размер X_test: (2000, 13)\n",
      "Доля оттока в y_train: 0.204\n",
      "Доля оттока в y_test: 0.203\n"
     ]
    }
   ],
   "source": [
    "print(\"\\n--- Разделение данных на обучающую и тестовую выборки ---\")\n",
    "X = df_processed.drop('Exited', axis=1)\n",
    "y = df_processed['Exited']\n",
    "\n",
    "X_train, X_test, y_train, y_test = train_test_split(\n",
    "    X, y,\n",
    "    test_size=0.2,\n",
    "    random_state=42,\n",
    "    stratify=y\n",
    ")\n",
    "\n",
    "print(f\"Размер X_train: {X_train.shape}\")\n",
    "print(f\"Размер X_test: {X_test.shape}\")\n",
    "print(f\"Доля оттока в y_train: {y_train.mean():.3f}\")\n",
    "print(f\"Доля оттока в y_test: {y_test.mean():.3f}\")"
   ]
  },
  {
   "cell_type": "code",
   "execution_count": 12,
   "metadata": {},
   "outputs": [
    {
     "name": "stdout",
     "output_type": "stream",
     "text": [
      "\n",
      "--- Определение типов признаков и создание препроцессора ---\n",
      "Признак 'Gender' преобразован в числовой (0/1).\n",
      "\n",
      "Категориальные признаки для OHE: ['Geography']\n",
      "Числовые признаки для масштабирования: ['CreditScore', 'Gender', 'Age', 'Tenure', 'Balance', 'NumOfProducts', 'IsActiveMember', 'EstimatedSalary', 'IsBalanceZero', 'HighNumProducts', 'BalancePerProduct', 'TenurePerAge']\n"
     ]
    }
   ],
   "source": [
    "print(\"\\n--- Определение типов признаков и создание препроцессора ---\")\n",
    "\n",
    "X_train['Gender'] = X_train['Gender'].map({'Male': 1, 'Female': 0})\n",
    "X_test['Gender'] = X_test['Gender'].map({'Male': 1, 'Female': 0})\n",
    "print(\"Признак 'Gender' преобразован в числовой (0/1).\")\n",
    "\n",
    "categorical_features_ohe = ['Geography']\n",
    "numerical_features = X_train.select_dtypes(include=np.number).columns.tolist()\n",
    "\n",
    "numerical_features = [col for col in numerical_features if col not in categorical_features_ohe]\n",
    "\n",
    "print(f\"\\nКатегориальные признаки для OHE: {categorical_features_ohe}\")\n",
    "print(f\"Числовые признаки для масштабирования: {numerical_features}\")"
   ]
  },
  {
   "cell_type": "code",
   "execution_count": 13,
   "metadata": {},
   "outputs": [],
   "source": [
    "preprocessor = ColumnTransformer(\n",
    "    transformers=[\n",
    "        ('num', StandardScaler(), numerical_features),\n",
    "        ('cat', OneHotEncoder(handle_unknown='ignore', drop='first', sparse_output=False), categorical_features_ohe)\n",
    "    ],\n",
    "    remainder='passthrough'\n",
    ")"
   ]
  },
  {
   "cell_type": "code",
   "execution_count": 14,
   "metadata": {},
   "outputs": [
    {
     "name": "stdout",
     "output_type": "stream",
     "text": [
      "\n",
      "--- Применение препроцессора к данным ---\n",
      "Размер обработанного X_train: (8000, 14)\n",
      "Размер обработанного X_test: (2000, 14)\n",
      "Количество признаков после обработки: 14\n",
      "Имена признаков после обработки: ['CreditScore', 'Gender', 'Age', 'Tenure', 'Balance', 'NumOfProducts', 'IsActiveMember', 'EstimatedSalary', 'IsBalanceZero', 'HighNumProducts', 'BalancePerProduct', 'TenurePerAge', 'Geography_Germany', 'Geography_Spain']\n"
     ]
    }
   ],
   "source": [
    "print(\"\\n--- Применение препроцессора к данным ---\")\n",
    "\n",
    "preprocessor.fit(X_train)\n",
    "\n",
    "X_train_processed = preprocessor.transform(X_train)\n",
    "X_test_processed = preprocessor.transform(X_test)\n",
    "\n",
    "num_feature_names = numerical_features\n",
    "ohe_feature_names = preprocessor.named_transformers_['cat'].get_feature_names_out(categorical_features_ohe).tolist()\n",
    "\n",
    "final_feature_names = num_feature_names + ohe_feature_names\n",
    "\n",
    "print(f\"Размер обработанного X_train: {X_train_processed.shape}\")\n",
    "print(f\"Размер обработанного X_test: {X_test_processed.shape}\")\n",
    "print(f\"Количество признаков после обработки: {len(final_feature_names)}\")\n",
    "print(\"Имена признаков после обработки:\", final_feature_names)"
   ]
  },
  {
   "cell_type": "code",
   "execution_count": 15,
   "metadata": {},
   "outputs": [
    {
     "name": "stdout",
     "output_type": "stream",
     "text": [
      "\n",
      "--- Первые 5 строк обработанной обучающей выборки (X_train_final) ---\n",
      "      CreditScore    Gender       Age    Tenure   Balance  NumOfProducts  \\\n",
      "2151     1.058568  0.907507  1.715086  0.684723 -1.226059      -0.910256   \n",
      "8392     0.913626  0.907507 -0.659935 -0.696202  0.413288      -0.910256   \n",
      "5006     1.079274 -1.101919 -0.184931 -1.731895  0.601687       0.808830   \n",
      "4117    -0.929207  0.907507 -0.184931 -0.005739 -1.226059       0.808830   \n",
      "7182     0.427035  0.907507  0.955079  0.339492  0.548318       0.808830   \n",
      "\n",
      "      IsActiveMember  EstimatedSalary  IsBalanceZero  HighNumProducts  \\\n",
      "2151       -1.030206         1.042084       1.329364        -0.182185   \n",
      "8392       -1.030206        -0.623556      -0.752239        -0.182185   \n",
      "5006        0.970680         0.308128      -0.752239        -0.182185   \n",
      "4117       -1.030206        -0.290199       1.329364        -0.182185   \n",
      "7182        0.970680         0.135042      -0.752239        -0.182185   \n",
      "\n",
      "      BalancePerProduct  TenurePerAge  Geography_Germany  Geography_Spain  \n",
      "2151          -1.106569     -0.168165                0.0              0.0  \n",
      "8392           0.692945     -0.493808                1.0              0.0  \n",
      "5006          -0.103409     -1.544467                1.0              0.0  \n",
      "4117          -1.106569     -0.030004                0.0              0.0  \n",
      "7182          -0.132700     -0.172178                1.0              0.0  \n"
     ]
    }
   ],
   "source": [
    "X_train_final = pd.DataFrame(X_train_processed, columns=final_feature_names, index=X_train.index)\n",
    "X_test_final = pd.DataFrame(X_test_processed, columns=final_feature_names, index=X_test.index)\n",
    "\n",
    "print(\"\\n--- Первые 5 строк обработанной обучающей выборки (X_train_final) ---\")\n",
    "print(X_train_final.head())"
   ]
  },
  {
   "cell_type": "code",
   "execution_count": 21,
   "metadata": {},
   "outputs": [
    {
     "name": "stdout",
     "output_type": "stream",
     "text": [
      "\n",
      "--- Сохранение обработанных данных ---\n",
      "Обучающие признаки сохранены в: '..\\data\\processed\\X_train_processed.csv'\n",
      "Тестовые признаки сохранены в: '..\\data\\processed\\X_test_processed.csv'\n",
      "Обучающая целевая переменная сохранена в: '..\\data\\processed\\y_train.csv'\n",
      "Тестовая целевая переменная сохранена в: '..\\data\\processed\\y_test.csv'\n",
      "\n",
      "--- Все обработанные данные успешно сохранены. ---\n"
     ]
    }
   ],
   "source": [
    "print(\"\\n--- Сохранение обработанных данных ---\")\n",
    "\n",
    "x_train_path = os.path.join(processed_data_dir, 'X_train_processed.csv')\n",
    "x_test_path = os.path.join(processed_data_dir, 'X_test_processed.csv')\n",
    "y_train_path = os.path.join(processed_data_dir, 'y_train.csv')\n",
    "y_test_path = os.path.join(processed_data_dir, 'y_test.csv')\n",
    "\n",
    "try:\n",
    "    X_train_final.to_csv(x_train_path, index=False)\n",
    "    print(f\"Обучающие признаки сохранены в: '{x_train_path}'\")\n",
    "\n",
    "    X_test_final.to_csv(x_test_path, index=False)\n",
    "    print(f\"Тестовые признаки сохранены в: '{x_test_path}'\")\n",
    "\n",
    "    y_train.to_csv(y_train_path, index=False, header=True)\n",
    "    print(f\"Обучающая целевая переменная сохранена в: '{y_train_path}'\")\n",
    "\n",
    "    y_test.to_csv(y_test_path, index=False, header=True)\n",
    "    print(f\"Тестовая целевая переменная сохранена в: '{y_test_path}'\")\n",
    "\n",
    "    print(\"\\n--- Все обработанные данные успешно сохранены. ---\")\n",
    "\n",
    "except Exception as e:\n",
    "    print(f\"\\n--- Ошибка при сохранении данных: {e} ---\")"
   ]
  }
 ],
 "metadata": {
  "kernelspec": {
   "display_name": "default",
   "language": "python",
   "name": "python3"
  },
  "language_info": {
   "codemirror_mode": {
    "name": "ipython",
    "version": 3
   },
   "file_extension": ".py",
   "mimetype": "text/x-python",
   "name": "python",
   "nbconvert_exporter": "python",
   "pygments_lexer": "ipython3",
   "version": "3.11.11"
  }
 },
 "nbformat": 4,
 "nbformat_minor": 2
}
